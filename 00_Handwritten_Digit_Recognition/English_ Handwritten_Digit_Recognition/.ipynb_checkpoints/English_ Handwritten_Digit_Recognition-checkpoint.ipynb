{
 "cells": [
  {
   "cell_type": "code",
   "execution_count": 1,
   "metadata": {
    "id": "17-uBVEXxKDW"
   },
   "outputs": [
    {
     "name": "stderr",
     "output_type": "stream",
     "text": [
      "2024-05-22 11:55:21.289564: I tensorflow/core/util/port.cc:113] oneDNN custom operations are on. You may see slightly different numerical results due to floating-point round-off errors from different computation orders. To turn them off, set the environment variable `TF_ENABLE_ONEDNN_OPTS=0`.\n",
      "2024-05-22 11:55:21.290528: I external/local_tsl/tsl/cuda/cudart_stub.cc:32] Could not find cuda drivers on your machine, GPU will not be used.\n",
      "2024-05-22 11:55:21.342696: I external/local_tsl/tsl/cuda/cudart_stub.cc:32] Could not find cuda drivers on your machine, GPU will not be used.\n",
      "2024-05-22 11:55:21.595545: I tensorflow/core/platform/cpu_feature_guard.cc:210] This TensorFlow binary is optimized to use available CPU instructions in performance-critical operations.\n",
      "To enable the following instructions: AVX2 AVX_VNNI FMA, in other operations, rebuild TensorFlow with the appropriate compiler flags.\n",
      "2024-05-22 11:55:22.281887: W tensorflow/compiler/tf2tensorrt/utils/py_utils.cc:38] TF-TRT Warning: Could not find TensorRT\n"
     ]
    }
   ],
   "source": [
    "from tensorflow import keras\n",
    "from keras.models import Sequential\n",
    "from keras import layers\n",
    "from keras.layers import Dense, Flatten, Dropout, BatchNormalization\n",
    "from keras.layers import Conv2D, MaxPooling2D, GlobalAveragePooling2D\n",
    "from keras.datasets import cifar10\n",
    "import tensorflow as tf\n",
    "import numpy as np\n",
    "import matplotlib.pyplot as plt\n",
    "import numpy as np\n",
    "import cv2"
   ]
  },
  {
   "cell_type": "code",
   "execution_count": 9,
   "metadata": {
    "colab": {
     "base_uri": "https://localhost:8080/"
    },
    "id": "71KvGT3WmkN0",
    "outputId": "851179f6-03ae-4b8b-b400-9be5a50c7da4"
   },
   "outputs": [
    {
     "name": "stdout",
     "output_type": "stream",
     "text": [
      "Downloading data from https://storage.googleapis.com/tensorflow/tf-keras-datasets/mnist.npz\n",
      "11490434/11490434 [==============================] - 2s 0us/step\n"
     ]
    }
   ],
   "source": [
    "#Loading Data set\n",
    "mnist = tf.keras.datasets.mnist\n",
    "(x_train, y_train_org), (x_test, y_test_org) = mnist.load_data()\n",
    "x_train, x_test = x_train / 255.0, x_test / 255.0"
   ]
  },
  {
   "cell_type": "code",
   "execution_count": 10,
   "metadata": {
    "colab": {
     "base_uri": "https://localhost:8080/"
    },
    "id": "d8_gV4vyq4Kd",
    "outputId": "5e5d9d9d-a92e-459f-8f8b-65b081a426c8"
   },
   "outputs": [
    {
     "data": {
      "text/plain": [
       "(60000, 28, 28, 1)"
      ]
     },
     "execution_count": 10,
     "metadata": {},
     "output_type": "execute_result"
    }
   ],
   "source": [
    "x_train_32 = x_train.reshape(-1,28,28,1)\n",
    "x_test_32 = x_test.reshape(-1,28,28,1)\n",
    "x_train_32.shape"
   ]
  },
  {
   "cell_type": "code",
   "execution_count": 11,
   "metadata": {
    "id": "PlvNbzWQmkN0"
   },
   "outputs": [],
   "source": [
    "y_train = keras.utils.to_categorical(y_train_org)\n",
    "y_test = keras.utils.to_categorical(y_test_org)"
   ]
  },
  {
   "cell_type": "code",
   "execution_count": null,
   "metadata": {
    "id": "WRiNfoJLahc5"
   },
   "outputs": [],
   "source": [
    "def model_creation():\n",
    "  model = Sequential()\n",
    "  model.add(layers.Conv2D(32, (3, 3), activation='relu'))\n",
    "  model.add(layers.MaxPooling2D((2, 2)))\n",
    "  model.add(layers.Conv2D(64, (3, 3), activation='relu'))\n",
    "  model.add(layers.MaxPooling2D((2, 2)))\n",
    "  model.add(layers.Conv2D(64, (3, 3), activation='relu'))\n",
    "  model.add(layers.GlobalAveragePooling2D()) \n",
    "  model.add(layers.Dense(64, activation='relu'))\n",
    "  model.add(Dropout(0.5))\n",
    "  model.add(layers.Dense(10, activation='softmax'))\n",
    "  return model\n",
    ")"
   ]
  },
  {
   "cell_type": "code",
   "execution_count": null,
   "metadata": {},
   "outputs": [],
   "source": [
    "model = model_creation()"
   ]
  },
  {
   "cell_type": "code",
   "execution_count": null,
   "metadata": {
    "id": "LjpU179LG8HK"
   },
   "outputs": [],
   "source": [
    "model.compile(optimizer = 'Adam' , loss = \"categorical_crossentropy\" , metrics = [\"acc\"] )"
   ]
  },
  {
   "cell_type": "code",
   "execution_count": null,
   "metadata": {
    "colab": {
     "base_uri": "https://localhost:8080/"
    },
    "id": "ZmKGARToG8KE",
    "outputId": "9eb1ee27-5f56-4b0d-b1f1-6a6d18d9a172"
   },
   "outputs": [
    {
     "name": "stdout",
     "output_type": "stream",
     "text": [
      "Epoch 1/25\n",
      "1875/1875 [==============================] - 13s 4ms/step - loss: 0.4512 - acc: 0.8548\n",
      "Epoch 2/25\n",
      "1875/1875 [==============================] - 7s 4ms/step - loss: 0.1481 - acc: 0.9582\n",
      "Epoch 3/25\n",
      "1875/1875 [==============================] - 8s 4ms/step - loss: 0.1013 - acc: 0.9719\n",
      "Epoch 4/25\n",
      "1875/1875 [==============================] - 7s 4ms/step - loss: 0.0783 - acc: 0.9784\n",
      "Epoch 5/25\n",
      "1875/1875 [==============================] - 7s 4ms/step - loss: 0.0630 - acc: 0.9822\n",
      "Epoch 6/25\n",
      "1875/1875 [==============================] - 8s 4ms/step - loss: 0.0524 - acc: 0.9854\n",
      "Epoch 7/25\n",
      "1875/1875 [==============================] - 7s 4ms/step - loss: 0.0481 - acc: 0.9867\n",
      "Epoch 8/25\n",
      "1875/1875 [==============================] - 8s 4ms/step - loss: 0.0367 - acc: 0.9895\n",
      "Epoch 9/25\n",
      "1875/1875 [==============================] - 7s 4ms/step - loss: 0.0355 - acc: 0.9899\n",
      "Epoch 10/25\n",
      "1875/1875 [==============================] - 8s 4ms/step - loss: 0.0298 - acc: 0.9918\n",
      "Epoch 11/25\n",
      "1875/1875 [==============================] - 8s 4ms/step - loss: 0.0287 - acc: 0.9918\n",
      "Epoch 12/25\n",
      "1875/1875 [==============================] - 7s 4ms/step - loss: 0.0241 - acc: 0.9929\n",
      "Epoch 13/25\n",
      "1875/1875 [==============================] - 8s 4ms/step - loss: 0.0221 - acc: 0.9937\n",
      "Epoch 14/25\n",
      "1875/1875 [==============================] - 7s 4ms/step - loss: 0.0201 - acc: 0.9940\n",
      "Epoch 15/25\n",
      "1875/1875 [==============================] - 8s 4ms/step - loss: 0.0196 - acc: 0.9945\n",
      "Epoch 16/25\n",
      "1875/1875 [==============================] - 7s 4ms/step - loss: 0.0187 - acc: 0.9947\n",
      "Epoch 17/25\n",
      "1875/1875 [==============================] - 7s 4ms/step - loss: 0.0168 - acc: 0.9950\n",
      "Epoch 18/25\n",
      "1875/1875 [==============================] - 8s 4ms/step - loss: 0.0159 - acc: 0.9955\n",
      "Epoch 19/25\n",
      "1875/1875 [==============================] - 7s 4ms/step - loss: 0.0147 - acc: 0.9956\n",
      "Epoch 20/25\n",
      "1875/1875 [==============================] - 8s 4ms/step - loss: 0.0143 - acc: 0.9957\n",
      "Epoch 21/25\n",
      "1875/1875 [==============================] - 7s 4ms/step - loss: 0.0130 - acc: 0.9961\n",
      "Epoch 22/25\n",
      "1875/1875 [==============================] - 8s 4ms/step - loss: 0.0131 - acc: 0.9958\n",
      "Epoch 23/25\n",
      "1875/1875 [==============================] - 8s 4ms/step - loss: 0.0110 - acc: 0.9966\n",
      "Epoch 24/25\n",
      "1875/1875 [==============================] - 7s 4ms/step - loss: 0.0123 - acc: 0.9962\n",
      "Epoch 25/25\n",
      "1875/1875 [==============================] - 8s 4ms/step - loss: 0.0105 - acc: 0.9969\n"
     ]
    },
    {
     "data": {
      "text/plain": [
       "<keras.src.callbacks.History at 0x792b4d3cd180>"
      ]
     },
     "execution_count": 10,
     "metadata": {},
     "output_type": "execute_result"
    }
   ],
   "source": [
    "model.fit(x_train_32, y_train, batch_size= 32 , epochs = 25)"
   ]
  },
  {
   "cell_type": "code",
   "execution_count": null,
   "metadata": {
    "colab": {
     "base_uri": "https://localhost:8080/"
    },
    "id": "a6fUW2Z4Xhnl",
    "outputId": "784f4237-ec7b-45c6-ae86-2a48b502fb0f"
   },
   "outputs": [
    {
     "name": "stdout",
     "output_type": "stream",
     "text": [
      "313/313 [==============================] - 4s 9ms/step - loss: 0.0398 - acc: 0.9940\n"
     ]
    },
    {
     "data": {
      "text/plain": [
       "[0.039761289954185486, 0.9940000176429749]"
      ]
     },
     "execution_count": 58,
     "metadata": {},
     "output_type": "execute_result"
    }
   ],
   "source": [
    "model.evaluate(x_test_32, y_test)"
   ]
  }
 ],
 "metadata": {
  "accelerator": "GPU",
  "colab": {
   "gpuType": "T4",
   "provenance": []
  },
  "kernelspec": {
   "display_name": "Python 3 (ipykernel)",
   "language": "python",
   "name": "python3"
  },
  "language_info": {
   "codemirror_mode": {
    "name": "ipython",
    "version": 3
   },
   "file_extension": ".py",
   "mimetype": "text/x-python",
   "name": "python",
   "nbconvert_exporter": "python",
   "pygments_lexer": "ipython3",
   "version": "3.11.5"
  }
 },
 "nbformat": 4,
 "nbformat_minor": 1
}
